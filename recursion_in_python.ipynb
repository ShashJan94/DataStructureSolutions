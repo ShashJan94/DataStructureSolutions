{
 "cells": [
  {
   "cell_type": "markdown",
   "id": "a77bbd0a-71e9-47c3-ab99-ac581389dea3",
   "metadata": {},
   "source": [
    "<h1>Draw a Ruler </h1>"
   ]
  },
  {
   "cell_type": "code",
   "execution_count": 7,
   "id": "656a2536-98ce-4d4a-8e00-1c513c9af05d",
   "metadata": {},
   "outputs": [],
   "source": [
    "def draw_line(tick_length, tick_label='' ):\n",
    "    line = '-'+ tick_length\n",
    "    if tick_label:\n",
    "        line +=' '+ tick_label\n",
    "    print(line)\n",
    "    \n",
    "def draw_interval(center_length):\n",
    "    if center_length > 0:\n",
    "        draw_interval(center_length-1)\n",
    "        draw_line(center_length)\n",
    "        draw_interval(center_length-1)\n",
    "\n",
    "\n",
    "def draw_ruler(num_inches, major_length): \n",
    "        draw_line(major_length, '0' )\n",
    "        for j in range(1, 1 + num_inches):\n",
    "            draw_interval(major_length-1)\n",
    "            draw_line(major_length, str(j))"
   ]
  },
  {
   "cell_type": "markdown",
   "id": "b21c6bb4-393a-4216-aa24-482898460ea8",
   "metadata": {},
   "source": [
    "<h1>Total Disk Usage </h1>"
   ]
  },
  {
   "cell_type": "code",
   "execution_count": 10,
   "id": "34a70138-0345-403e-8fdb-be3a8e08ebe2",
   "metadata": {},
   "outputs": [],
   "source": [
    "import os\n",
    "def disk_usage(path):\n",
    "    total = os.path.getsize(path)\n",
    "    # account for direct usage\n",
    "    if os.path.isdir(path):\n",
    "        for filename in os.listdir(path):\n",
    "            childpath = os.path.join(path, filename)\n",
    "            total += disk_usage(childpath)\n",
    "    # add child’s usage to total\n",
    "    print ( '{0:<7}' .format(total), path)\n",
    "    # descriptive output (optional)\n",
    "    return total"
   ]
  },
  {
   "cell_type": "code",
   "execution_count": null,
   "id": "7c9c0aab-d5c7-4ad9-86bd-b36e1b60ba9b",
   "metadata": {},
   "outputs": [],
   "source": []
  }
 ],
 "metadata": {
  "kernelspec": {
   "display_name": "Python 3 (ipykernel)",
   "language": "python",
   "name": "python3"
  },
  "language_info": {
   "codemirror_mode": {
    "name": "ipython",
    "version": 3
   },
   "file_extension": ".py",
   "mimetype": "text/x-python",
   "name": "python",
   "nbconvert_exporter": "python",
   "pygments_lexer": "ipython3",
   "version": "3.9.7"
  }
 },
 "nbformat": 4,
 "nbformat_minor": 5
}
